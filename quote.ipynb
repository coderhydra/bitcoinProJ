{
 "cells": [
  {
   "cell_type": "code",
   "execution_count": 2,
   "id": "abb6bcb5",
   "metadata": {},
   "outputs": [],
   "source": [
    "import quote as qt"
   ]
  },
  {
   "cell_type": "code",
   "execution_count": 6,
   "id": "3d462493",
   "metadata": {},
   "outputs": [
    {
     "name": "stdout",
     "output_type": "stream",
     "text": [
      "kind: 1_BTC, 2_ETH 3_SOL\n",
      "default: KRW-BTC\n",
      "interval: 1_minute1, 2_minute3, 3_minute5, 4_minute10, 5_minute15, 6_minute30, 7_minute60, 8_minute240, 9_day, 10_week, 11_month\n",
      "default: minute1\n",
      "to: ex_2022-04-04 17:27\n",
      "default: 2022-04-05 21:26\n",
      "count: #\n",
      "default: 100\n",
      "None\n"
     ]
    }
   ],
   "source": [
    "print(qt.get_coin_quote())"
   ]
  },
  {
   "cell_type": "code",
   "execution_count": null,
   "id": "57c33dbb",
   "metadata": {},
   "outputs": [],
   "source": []
  }
 ],
 "metadata": {
  "kernelspec": {
   "display_name": "Python 3 (ipykernel)",
   "language": "python",
   "name": "python3"
  },
  "language_info": {
   "codemirror_mode": {
    "name": "ipython",
    "version": 3
   },
   "file_extension": ".py",
   "mimetype": "text/x-python",
   "name": "python",
   "nbconvert_exporter": "python",
   "pygments_lexer": "ipython3",
   "version": "3.9.7"
  }
 },
 "nbformat": 4,
 "nbformat_minor": 5
}
