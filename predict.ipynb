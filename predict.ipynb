{
 "cells": [
  {
   "cell_type": "code",
   "execution_count": null,
   "id": "2c862546",
   "metadata": {},
   "outputs": [],
   "source": [
    "!pip install tensorflow\n",
    "!pip install keras"
   ]
  },
  {
   "cell_type": "code",
   "execution_count": 10,
   "id": "30753ecf",
   "metadata": {},
   "outputs": [],
   "source": [
    "import pandas as pd\n",
    "import numpy as np"
   ]
  },
  {
   "cell_type": "code",
   "execution_count": null,
   "id": "4ad14b9e",
   "metadata": {},
   "outputs": [],
   "source": [
    "from keras.models import Sequential"
   ]
  },
  {
   "cell_type": "code",
   "execution_count": null,
   "id": "f365ebcb",
   "metadata": {},
   "outputs": [],
   "source": [
    "#library import\n",
    "import matplotlib.pyplot as plt\n",
    "from keras.layers import LSTM, Dropout ,Dense, Activation\n",
    "import datetime"
   ]
  },
  {
   "cell_type": "code",
   "execution_count": 1,
   "id": "3c6176c3",
   "metadata": {},
   "outputs": [
    {
     "name": "stdout",
     "output_type": "stream",
     "text": [
      "kind: 1_BTC, 2_ETH 3_SOL\n",
      "default: KRW-BTC\n",
      "interval: 1_minute1, 2_minute3, 3_minute5, 4_minute10, 5_minute15, 6_minute30, 7_minute60, 8_minute240, 9_day, 10_week, 11_month\n",
      "default: minute1\n",
      "count: #\n",
      "default: 100\n"
     ]
    },
    {
     "data": {
      "text/html": [
       "<div>\n",
       "<style scoped>\n",
       "    .dataframe tbody tr th:only-of-type {\n",
       "        vertical-align: middle;\n",
       "    }\n",
       "\n",
       "    .dataframe tbody tr th {\n",
       "        vertical-align: top;\n",
       "    }\n",
       "\n",
       "    .dataframe thead th {\n",
       "        text-align: right;\n",
       "    }\n",
       "</style>\n",
       "<table border=\"1\" class=\"dataframe\">\n",
       "  <thead>\n",
       "    <tr style=\"text-align: right;\">\n",
       "      <th></th>\n",
       "      <th>open</th>\n",
       "      <th>high</th>\n",
       "      <th>low</th>\n",
       "      <th>close</th>\n",
       "      <th>volume</th>\n",
       "      <th>value</th>\n",
       "    </tr>\n",
       "  </thead>\n",
       "  <tbody>\n",
       "    <tr>\n",
       "      <th>2022-04-05 20:46:00</th>\n",
       "      <td>57156000.0</td>\n",
       "      <td>57170000.0</td>\n",
       "      <td>57140000.0</td>\n",
       "      <td>57168000.0</td>\n",
       "      <td>2.217127</td>\n",
       "      <td>1.267379e+08</td>\n",
       "    </tr>\n",
       "    <tr>\n",
       "      <th>2022-04-05 20:47:00</th>\n",
       "      <td>57168000.0</td>\n",
       "      <td>57174000.0</td>\n",
       "      <td>57156000.0</td>\n",
       "      <td>57166000.0</td>\n",
       "      <td>1.290954</td>\n",
       "      <td>7.379778e+07</td>\n",
       "    </tr>\n",
       "    <tr>\n",
       "      <th>2022-04-05 20:48:00</th>\n",
       "      <td>57158000.0</td>\n",
       "      <td>57173000.0</td>\n",
       "      <td>57156000.0</td>\n",
       "      <td>57158000.0</td>\n",
       "      <td>2.594264</td>\n",
       "      <td>1.482913e+08</td>\n",
       "    </tr>\n",
       "  </tbody>\n",
       "</table>\n",
       "</div>"
      ],
      "text/plain": [
       "                           open        high         low       close    volume  \\\n",
       "2022-04-05 20:46:00  57156000.0  57170000.0  57140000.0  57168000.0  2.217127   \n",
       "2022-04-05 20:47:00  57168000.0  57174000.0  57156000.0  57166000.0  1.290954   \n",
       "2022-04-05 20:48:00  57158000.0  57173000.0  57156000.0  57158000.0  2.594264   \n",
       "\n",
       "                            value  \n",
       "2022-04-05 20:46:00  1.267379e+08  \n",
       "2022-04-05 20:47:00  7.379778e+07  \n",
       "2022-04-05 20:48:00  1.482913e+08  "
      ]
     },
     "execution_count": 1,
     "metadata": {},
     "output_type": "execute_result"
    }
   ],
   "source": [
    "import quote as qt\n",
    "df_coin = qt.get_coin_quote()\n",
    "df_coin.head(3)"
   ]
  },
  {
   "cell_type": "markdown",
   "id": "0376662a",
   "metadata": {},
   "source": [
    "# Mid Price"
   ]
  },
  {
   "cell_type": "code",
   "execution_count": 4,
   "id": "9c1044b0",
   "metadata": {},
   "outputs": [],
   "source": [
    "highs = df_coin['high']\n",
    "lows = df_coin['low']\n",
    "mids = (highs+lows)/2"
   ]
  },
  {
   "cell_type": "markdown",
   "id": "d41c5920",
   "metadata": {},
   "source": [
    "# Create Window"
   ]
  },
  {
   "cell_type": "code",
   "execution_count": 8,
   "id": "8fd9c0fc",
   "metadata": {},
   "outputs": [],
   "source": [
    "period=50\n",
    "seq_len=period+1\n",
    "\n",
    "result = []\n",
    "for index in range(len(mids) - seq_len):\n",
    "    result.append(mids[index: index + seq_len])"
   ]
  },
  {
   "cell_type": "markdown",
   "id": "77e0dd06",
   "metadata": {},
   "source": [
    "# Nomalize"
   ]
  },
  {
   "cell_type": "code",
   "execution_count": 11,
   "id": "7ad9eca2",
   "metadata": {},
   "outputs": [],
   "source": [
    "def normalize_windows(data):\n",
    "    normalized_data = []\n",
    "    for window in data:\n",
    "        normalized_window = [((float(p) / float(window[0])) - 1) for p in window]\n",
    "        normalized_data.append(normalized_window)\n",
    "    return np.array(normalized_data)\n",
    "\n",
    "result = normalize_windows(result)"
   ]
  },
  {
   "cell_type": "markdown",
   "id": "04288cd8",
   "metadata": {},
   "source": [
    "# split"
   ]
  },
  {
   "cell_type": "code",
   "execution_count": 12,
   "id": "2ce971a7",
   "metadata": {},
   "outputs": [
    {
     "data": {
      "text/plain": [
       "((44, 50, 1), (5, 50, 1))"
      ]
     },
     "execution_count": 12,
     "metadata": {},
     "output_type": "execute_result"
    }
   ],
   "source": [
    "row = int(round(result.shape[0] * 0.9))\n",
    "train = result[:row, :]\n",
    "# 학습효율 -> random\n",
    "np.random.shuffle(train)\n",
    "\n",
    "#학습\n",
    "x_train = train[:, :-1]\n",
    "x_train = np.reshape(x_train, (x_train.shape[0], x_train.shape[1], 1))\n",
    "y_train = train[:, -1]\n",
    "\n",
    "#예측\n",
    "x_test = result[row:, :-1]\n",
    "x_test = np.reshape(x_test, (x_test.shape[0], x_test.shape[1], 1))\n",
    "y_test = result[row:, -1]\n",
    "\n",
    "x_train.shape, x_test.shape"
   ]
  },
  {
   "cell_type": "markdown",
   "id": "8ea65b6f",
   "metadata": {},
   "source": [
    "# Model"
   ]
  },
  {
   "cell_type": "code",
   "execution_count": null,
   "id": "e8f010b6",
   "metadata": {},
   "outputs": [],
   "source": [
    "from keras.models import Sequential\n",
    "model = Sequential()\n",
    "\n",
    "model.add(LSTM(50, return_sequences=True, input_shape=(50, 1)))\n",
    "\n",
    "model.add(LSTM(64, return_sequences=False))\n",
    "\n",
    "model.add(Dense(1, activation='linear'))\n",
    "\n",
    "model.compile(loss='mse', optimizer='rmsprop')\n",
    "\n",
    "model.summary()"
   ]
  }
 ],
 "metadata": {
  "kernelspec": {
   "display_name": "Python 3 (ipykernel)",
   "language": "python",
   "name": "python3"
  },
  "language_info": {
   "codemirror_mode": {
    "name": "ipython",
    "version": 3
   },
   "file_extension": ".py",
   "mimetype": "text/x-python",
   "name": "python",
   "nbconvert_exporter": "python",
   "pygments_lexer": "ipython3",
   "version": "3.9.7"
  }
 },
 "nbformat": 4,
 "nbformat_minor": 5
}
