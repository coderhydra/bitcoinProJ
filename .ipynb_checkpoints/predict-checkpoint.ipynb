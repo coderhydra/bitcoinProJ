{
 "cells": [
  {
   "cell_type": "code",
   "execution_count": null,
   "id": "2c862546",
   "metadata": {},
   "outputs": [],
   "source": [
    "!pip install tensorflow\n",
    "!pip install keras"
   ]
  },
  {
   "cell_type": "code",
   "execution_count": null,
   "id": "f365ebcb",
   "metadata": {},
   "outputs": [],
   "source": [
    "#library import\n",
    "import pandas as pd\n",
    "import numpy as np\n",
    "import matplotlib.pyplot as plt\n",
    "from keras.model import sequential\n",
    "from keras.layers import LSTM, Dropout ,Dense, Activation\n",
    "import datetime\n",
    "import quote as qt"
   ]
  },
  {
   "cell_type": "code",
   "execution_count": 1,
   "id": "3c6176c3",
   "metadata": {},
   "outputs": [
    {
     "ename": "NameError",
     "evalue": "name 'qt' is not defined",
     "output_type": "error",
     "traceback": [
      "\u001b[0;31m---------------------------------------------------------------------------\u001b[0m",
      "\u001b[0;31mNameError\u001b[0m                                 Traceback (most recent call last)",
      "Input \u001b[0;32mIn [1]\u001b[0m, in \u001b[0;36m<cell line: 1>\u001b[0;34m()\u001b[0m\n\u001b[0;32m----> 1\u001b[0m df_coin \u001b[38;5;241m=\u001b[39m \u001b[43mqt\u001b[49m\u001b[38;5;241m.\u001b[39mget_coin_quote()\n\u001b[1;32m      2\u001b[0m df_coin\u001b[38;5;241m.\u001b[39mhead(\u001b[38;5;241m3\u001b[39m)\n",
      "\u001b[0;31mNameError\u001b[0m: name 'qt' is not defined"
     ]
    }
   ],
   "source": [
    "df_coin = qt.get_coin_quote()\n",
    "df_coin.head(3)"
   ]
  },
  {
   "cell_type": "markdown",
   "id": "0376662a",
   "metadata": {},
   "source": [
    "# Mid Price"
   ]
  },
  {
   "cell_type": "code",
   "execution_count": null,
   "id": "9c1044b0",
   "metadata": {},
   "outputs": [],
   "source": [
    "highs = df_coin['high']\n",
    "lows = df_coin['low']\n",
    "mids = (highs+lows)/2\n",
    "mids"
   ]
  },
  {
   "cell_type": "code",
   "execution_count": null,
   "id": "d9913f6c",
   "metadata": {},
   "outputs": [],
   "source": []
  }
 ],
 "metadata": {
  "kernelspec": {
   "display_name": "Python 3 (ipykernel)",
   "language": "python",
   "name": "python3"
  },
  "language_info": {
   "codemirror_mode": {
    "name": "ipython",
    "version": 3
   },
   "file_extension": ".py",
   "mimetype": "text/x-python",
   "name": "python",
   "nbconvert_exporter": "python",
   "pygments_lexer": "ipython3",
   "version": "3.9.7"
  }
 },
 "nbformat": 4,
 "nbformat_minor": 5
}
