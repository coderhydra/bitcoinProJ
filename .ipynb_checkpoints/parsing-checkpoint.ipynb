{
 "cells": [
  {
   "cell_type": "markdown",
   "id": "2b27cb92",
   "metadata": {},
   "source": [
    "# web parsing\n",
    "# web crawling\n",
    "#\n",
    "    ### s. 웹에서 코인가격을  파싱하여  csv로 저장 오버라이팅하여서 최신유지!"
   ]
  },
  {
   "cell_type": "code",
   "execution_count": null,
   "id": "d88a7d02",
   "metadata": {},
   "outputs": [],
   "source": [
    "# beautiful soup install\n",
    "!pip install beautifulsoup4\n",
    "# request install\n",
    "!pip install requests\n",
    "# selenium install\n",
    "!pip install selenium"
   ]
  },
  {
   "cell_type": "code",
   "execution_count": null,
   "id": "5a680bb4",
   "metadata": {},
   "outputs": [],
   "source": [
    "# requests  실패 -> selenium\n",
    "# library import\n",
    "import requests\n",
    "from bs4 import BeautifulSoup as bs\n",
    "page = requests.get(\"https://kr.investing.com/crypto/solana/historical-data\")\n",
    "soup = bs(page.text, \"html.parser\")\n",
    "\n",
    "tables = soup.select('curr_table')\n",
    "# #//*[@id=\"curr_table\"]/tbody/tr[1]/td[2]\n",
    "# #curr_table > tbody > tr:nth-child(1) > td:nth-child(2)\n",
    "# one = soup.select_one('#curr_table > tbody > tr:nth-child(1) > td:nth-child(2)')\n",
    "# one\n",
    "# #for index, element in enumerate(elements, 1):\n",
    "# #\t\tprint(\"{}번째 내용: {}\".format(index, element.text))"
   ]
  },
  {
   "cell_type": "markdown",
   "id": "c38f6c96",
   "metadata": {},
   "source": [
    "## 라이브러리 임포트"
   ]
  },
  {
   "cell_type": "code",
   "execution_count": null,
   "id": "97382b48",
   "metadata": {},
   "outputs": [],
   "source": [
    "import pandas as pd\n",
    "import numpy as np\n",
    "# selenium import\n",
    "from selenium import webdriver\n",
    "from bs4 import BeautifulSoup as bs\n",
    "import matplotlib.pyplot as plt"
   ]
  },
  {
   "cell_type": "markdown",
   "id": "8f11f43d",
   "metadata": {},
   "source": [
    "## selenium webopen\n",
    "### 브라우저 닫으면 안됨"
   ]
  },
  {
   "cell_type": "code",
   "execution_count": null,
   "id": "1780ffc7",
   "metadata": {},
   "outputs": [],
   "source": [
    "driver = webdriver.Chrome()\n",
    "driver.implicitly_wait(3)\n",
    "# solana 데이터 사이트\n",
    "driver.get(\"https://kr.investing.com/crypto/solana/historical-data\")\n",
    "# 비트코인 url\n",
    "# driver.get(\"https://kr.investing.com/crypto/bitcoin/historical-data\")\n",
    "# 이더리운 url\n",
    "# driver.get(\"https://kr.investing.com/crypto/ethereum/historical-data\")\n",
    "html = driver.page_source"
   ]
  },
  {
   "cell_type": "markdown",
   "id": "ed786d9b",
   "metadata": {},
   "source": [
    "## beautiful soup"
   ]
  },
  {
   "cell_type": "code",
   "execution_count": null,
   "id": "bac80d34",
   "metadata": {},
   "outputs": [],
   "source": [
    "soup = bs(html, 'html.parser')\n",
    "\n",
    "table = soup.find('table', {'class': 'genTbl closedTbl historicalTbl'})\n",
    "# 테이블 html 정보를 문자열로 변경하기\n",
    "table_html = str(table)"
   ]
  },
  {
   "cell_type": "markdown",
   "id": "03057a49",
   "metadata": {},
   "source": [
    "## pandas"
   ]
  },
  {
   "cell_type": "code",
   "execution_count": null,
   "id": "f99d4327",
   "metadata": {},
   "outputs": [],
   "source": [
    "# 판다스의 read_html 로 테이블 정보 읽기\n",
    "table_df_list = pd.read_html(table_html)\n",
    "\n",
    "# 데이터프레임 선택하기\n",
    "table_df = table_df_list[0]\n",
    "#print(table_df.dtypes) # 타입확인\n",
    "# 데이터 전처리 str -> numetric\n",
    "table_df.columns=['date', 'price_final', 'price_open', 'price_high', 'price_row', 'trade_vol', 'trade_change']\n",
    "table_df['date'] = table_df['date'].str.replace(\"년\",\"\")\n",
    "table_df['date'] = table_df['date'].str.replace(\"월\",\"\")\n",
    "table_df['date'] = table_df['date'].str.replace(\"일\",\"\")\n",
    "table_df['date'] = table_df['date'].str.replace(\" \",\"\")\n",
    "table_df['date'] = pd.to_numeric(table_df['date'])\n",
    "table_df['trade_vol'] = table_df['trade_vol'].str.replace(\"M\",\"\")\n",
    "table_df['trade_vol'] = pd.to_numeric(table_df['trade_vol'])\n",
    "table_df['trade_change'] = table_df['trade_change'].str.replace(\"%\",\"\")\n",
    "table_df"
   ]
  },
  {
   "cell_type": "code",
   "execution_count": null,
   "id": "ed73f05b",
   "metadata": {},
   "outputs": [],
   "source": [
    "# 최신1일 데이터\n",
    "one =soup.select_one('#curr_table > tbody > tr:nth-child(1)')\n",
    "one\n",
    "table = soup.find('table', {'class': 'genTbl closedTbl historicalTbl'})\n",
    "trs = table.find_all('tr')\n",
    "for idx, tr in enumerate(trs): # enumerate를 사용하면 해당 값의 인덱스를 알 수 있다\n",
    "    if idx > 0:\n",
    "        tds = tr.find_all('td')\n",
    "        date = tds[0].text\n",
    "        price_final = tds[1].text\n",
    "        price_open = tds[2].text\n",
    "        price_high = tds[3].text\n",
    "        price_low = tds[4].text\n",
    "        trade_vol = tds[5].text\n",
    "        trade_change = tds[6].text\n",
    "        print(price_final)\n"
   ]
  },
  {
   "cell_type": "code",
   "execution_count": null,
   "id": "5fbc5cbe",
   "metadata": {
    "scrolled": true
   },
   "outputs": [],
   "source": [
    "# 라이브러리 시세 임포트\n",
    "!pip install pyupbit"
   ]
  },
  {
   "cell_type": "code",
   "execution_count": 2,
   "id": "5a59aa3b",
   "metadata": {},
   "outputs": [],
   "source": [
    "import pyupbit\n",
    "#pyupbit.get_tickers(fiat='KRW')"
   ]
  },
  {
   "cell_type": "code",
   "execution_count": 3,
   "id": "a58126a5",
   "metadata": {},
   "outputs": [
    {
     "name": "stdout",
     "output_type": "stream",
     "text": [
      "비트코인 현재가:56504000.0\n",
      "이더리움 현재가:4280000.0\n",
      "솔라나 현재가:166800.0\n"
     ]
    }
   ],
   "source": [
    "print(\"비트코인 현재가:{}\".format(pyupbit.get_current_price([\"KRW-BTC\"])))\n",
    "print(\"이더리움 현재가:{}\".format(pyupbit.get_current_price([\"KRW-ETH\"])))\n",
    "print(\"솔라나 현재가:{}\".format(pyupbit.get_current_price([\"KRW-SOL\"])))"
   ]
  },
  {
   "cell_type": "code",
   "execution_count": 26,
   "id": "75d312e5",
   "metadata": {},
   "outputs": [
    {
     "data": {
      "text/html": [
       "<div>\n",
       "<style scoped>\n",
       "    .dataframe tbody tr th:only-of-type {\n",
       "        vertical-align: middle;\n",
       "    }\n",
       "\n",
       "    .dataframe tbody tr th {\n",
       "        vertical-align: top;\n",
       "    }\n",
       "\n",
       "    .dataframe thead th {\n",
       "        text-align: right;\n",
       "    }\n",
       "</style>\n",
       "<table border=\"1\" class=\"dataframe\">\n",
       "  <thead>\n",
       "    <tr style=\"text-align: right;\">\n",
       "      <th></th>\n",
       "      <th>open</th>\n",
       "      <th>high</th>\n",
       "      <th>low</th>\n",
       "      <th>close</th>\n",
       "      <th>volume</th>\n",
       "      <th>value</th>\n",
       "    </tr>\n",
       "  </thead>\n",
       "  <tbody>\n",
       "    <tr>\n",
       "      <th>2021-09-05 10:03:00</th>\n",
       "      <td>58000000.0</td>\n",
       "      <td>58050000.0</td>\n",
       "      <td>58000000.0</td>\n",
       "      <td>58042000.0</td>\n",
       "      <td>18.678311</td>\n",
       "      <td>1.083767e+09</td>\n",
       "    </tr>\n",
       "    <tr>\n",
       "      <th>2021-09-05 10:04:00</th>\n",
       "      <td>58042000.0</td>\n",
       "      <td>58052000.0</td>\n",
       "      <td>57944000.0</td>\n",
       "      <td>57992000.0</td>\n",
       "      <td>14.670408</td>\n",
       "      <td>8.513529e+08</td>\n",
       "    </tr>\n",
       "    <tr>\n",
       "      <th>2021-09-05 10:05:00</th>\n",
       "      <td>57992000.0</td>\n",
       "      <td>57992000.0</td>\n",
       "      <td>57947000.0</td>\n",
       "      <td>57955000.0</td>\n",
       "      <td>2.522396</td>\n",
       "      <td>1.462086e+08</td>\n",
       "    </tr>\n",
       "  </tbody>\n",
       "</table>\n",
       "</div>"
      ],
      "text/plain": [
       "                           open        high         low       close  \\\n",
       "2021-09-05 10:03:00  58000000.0  58050000.0  58000000.0  58042000.0   \n",
       "2021-09-05 10:04:00  58042000.0  58052000.0  57944000.0  57992000.0   \n",
       "2021-09-05 10:05:00  57992000.0  57992000.0  57947000.0  57955000.0   \n",
       "\n",
       "                        volume         value  \n",
       "2021-09-05 10:03:00  18.678311  1.083767e+09  \n",
       "2021-09-05 10:04:00  14.670408  8.513529e+08  \n",
       "2021-09-05 10:05:00   2.522396  1.462086e+08  "
      ]
     },
     "execution_count": 26,
     "metadata": {},
     "output_type": "execute_result"
    }
   ],
   "source": [
    "ticker = 'KRW-BTC' # 코인 종류\n",
    "interval = 'minute1' # 한봉의 길이\n",
    "# minute1, minute3, minute5, minute10, minute15, minute30, minute60, minute240, day, week, month\t\n",
    "to = '2021-09-05 11:20' # 데이터의 마지막 시절\n",
    "count = 77 # 몇개의 봉을 가져올지?\n",
    "df_BTC=pyupbit.get_ohlcv(ticker=ticker,interval=interval,to=to,count=count)\n",
    "# volume= 거래된 코인의 숫자, value= 거래된 코인을 원화로 환산한 가치\n",
    "df_BTC.head(3)"
   ]
  },
  {
   "cell_type": "code",
   "execution_count": 50,
   "id": "1bc8fcc8",
   "metadata": {},
   "outputs": [],
   "source": [
    "\n",
    "def get_quote():\n",
    "#     key_ticker=\"\"\n",
    "#     key_interval=\"\"\n",
    "#     key_to=\"\"\n",
    "#     key_count=\"\"\n",
    "    input_ticker = input(\"kind: 1_BTC, 2_ETH 3_SOL\")\n",
    "    input_interval = input(\"interval: 1_minute1, 2_minute3, 3_minute5, 4_minute10, 5_minute15, 6_minute30, 7_minute60, 8_minute240, 9_day, 10_week, 11_month\") \n",
    "    key_to =  input(\"to: ex_2022-04-04 17:27\")\n",
    "    key_count = int(input(\"count: #\"))\n",
    "    if(input_ticker==\"1\"): key_ticker='KRW-BTC'\n",
    "    elif(input_ticker==\"2\"): key_ticker='KRW-ETH' \n",
    "    elif(input_ticker==\"3\"): key_ticker=\"KRW-SOL\"\n",
    "    if(input_interval==\"1\"): key_interval=\"minute1\"\n",
    "    elif(input_interval==\"2\"): key_interval=\"minute3\"\n",
    "    elif(input_interval==\"3\"): key_interval=\"minute5\"\n",
    "    elif(input_interval==\"4\"): key_interval=\"minute10\"\n",
    "    elif(input_interval==\"5\"): key_interval=\"minute15\"\n",
    "    elif(input_interval==\"6\"): key_interval=\"minute30\"\n",
    "    elif(input_interval==\"7\"): key_interval=\"minute60\"\n",
    "    elif(input_interval==\"8\"): key_interval=\"minute240\"\n",
    "    elif(input_interval==\"9\"): key_interval=\"day\"\n",
    "    elif(input_interval==\"10\"): key_interval=\"week\"\n",
    "    elif(input_interval==\"11\"): key_interval=\"month\"\n",
    "    return pyupbit.get_ohlcv(ticker=key_ticker,interval=key_interval,to=key_to,count=key_count)\n",
    "#    return pyupbit.get_ohlcv(ticker=\"KRW-BTC\",interval=\"minute1\",to=\"2021-09-05 11:20\",count=3)    \n",
    "   # return pyupbit.get_ohlcv(ticker=key_ticker,interval=\"minute1\",to=\"2021-09-05 11:20\",count=3)"
   ]
  },
  {
   "cell_type": "code",
   "execution_count": null,
   "id": "695a3c6c",
   "metadata": {},
   "outputs": [],
   "source": [
    "# print(type(df_BTC)) 타입확인\n",
    "# print(df_BTC.columns) 컬럼확인\n",
    "# print(df_BTC.index) 인덱스 확인\n",
    "df_BTC.head(3)"
   ]
  },
  {
   "cell_type": "code",
   "execution_count": null,
   "id": "d5845ec3",
   "metadata": {},
   "outputs": [],
   "source": [
    "# 사각화\n",
    "df_BTC.plot(y=['open', 'close'], figsize=(30, 7))  # y=colums, figsize=그레프 사이즈(가로,세로) "
   ]
  },
  {
   "cell_type": "code",
   "execution_count": null,
   "id": "742774e8",
   "metadata": {},
   "outputs": [],
   "source": [
    "result3 = pd.concat([df1,df2],axis=1) # 열방향axis=1(좌우)으로 dataframe 합치기"
   ]
  },
  {
   "cell_type": "code",
   "execution_count": 55,
   "id": "e6f257b4",
   "metadata": {},
   "outputs": [
    {
     "name": "stdout",
     "output_type": "stream",
     "text": [
      "kind: 1_BTC, 2_ETH 3_SOL3\n",
      "interval: 1_minute1, 2_minute3, 3_minute5, 4_minute10, 5_minute15, 6_minute30, 7_minute60, 8_minute240, 9_day, 10_week, 11_month3\n",
      "to: ex_2022-04-04 17:272022-04-04 17:27\n",
      "count: #77\n"
     ]
    },
    {
     "data": {
      "text/html": [
       "<div>\n",
       "<style scoped>\n",
       "    .dataframe tbody tr th:only-of-type {\n",
       "        vertical-align: middle;\n",
       "    }\n",
       "\n",
       "    .dataframe tbody tr th {\n",
       "        vertical-align: top;\n",
       "    }\n",
       "\n",
       "    .dataframe thead th {\n",
       "        text-align: right;\n",
       "    }\n",
       "</style>\n",
       "<table border=\"1\" class=\"dataframe\">\n",
       "  <thead>\n",
       "    <tr style=\"text-align: right;\">\n",
       "      <th></th>\n",
       "      <th>open</th>\n",
       "      <th>high</th>\n",
       "      <th>low</th>\n",
       "      <th>close</th>\n",
       "      <th>volume</th>\n",
       "      <th>value</th>\n",
       "    </tr>\n",
       "  </thead>\n",
       "  <tbody>\n",
       "    <tr>\n",
       "      <th>2022-04-04 11:05:00</th>\n",
       "      <td>165450.0</td>\n",
       "      <td>165850.0</td>\n",
       "      <td>165000.0</td>\n",
       "      <td>165000.0</td>\n",
       "      <td>3000.209268</td>\n",
       "      <td>4.961482e+08</td>\n",
       "    </tr>\n",
       "    <tr>\n",
       "      <th>2022-04-04 11:10:00</th>\n",
       "      <td>165100.0</td>\n",
       "      <td>165500.0</td>\n",
       "      <td>164950.0</td>\n",
       "      <td>165300.0</td>\n",
       "      <td>1533.836466</td>\n",
       "      <td>2.534062e+08</td>\n",
       "    </tr>\n",
       "    <tr>\n",
       "      <th>2022-04-04 11:15:00</th>\n",
       "      <td>165300.0</td>\n",
       "      <td>165450.0</td>\n",
       "      <td>165150.0</td>\n",
       "      <td>165200.0</td>\n",
       "      <td>1250.747725</td>\n",
       "      <td>2.067341e+08</td>\n",
       "    </tr>\n",
       "    <tr>\n",
       "      <th>2022-04-04 11:20:00</th>\n",
       "      <td>165200.0</td>\n",
       "      <td>165300.0</td>\n",
       "      <td>164750.0</td>\n",
       "      <td>164750.0</td>\n",
       "      <td>2115.435973</td>\n",
       "      <td>3.491180e+08</td>\n",
       "    </tr>\n",
       "    <tr>\n",
       "      <th>2022-04-04 11:25:00</th>\n",
       "      <td>164750.0</td>\n",
       "      <td>165150.0</td>\n",
       "      <td>164600.0</td>\n",
       "      <td>165150.0</td>\n",
       "      <td>1941.002287</td>\n",
       "      <td>3.199196e+08</td>\n",
       "    </tr>\n",
       "  </tbody>\n",
       "</table>\n",
       "</div>"
      ],
      "text/plain": [
       "                         open      high       low     close       volume  \\\n",
       "2022-04-04 11:05:00  165450.0  165850.0  165000.0  165000.0  3000.209268   \n",
       "2022-04-04 11:10:00  165100.0  165500.0  164950.0  165300.0  1533.836466   \n",
       "2022-04-04 11:15:00  165300.0  165450.0  165150.0  165200.0  1250.747725   \n",
       "2022-04-04 11:20:00  165200.0  165300.0  164750.0  164750.0  2115.435973   \n",
       "2022-04-04 11:25:00  164750.0  165150.0  164600.0  165150.0  1941.002287   \n",
       "\n",
       "                            value  \n",
       "2022-04-04 11:05:00  4.961482e+08  \n",
       "2022-04-04 11:10:00  2.534062e+08  \n",
       "2022-04-04 11:15:00  2.067341e+08  \n",
       "2022-04-04 11:20:00  3.491180e+08  \n",
       "2022-04-04 11:25:00  3.199196e+08  "
      ]
     },
     "execution_count": 55,
     "metadata": {},
     "output_type": "execute_result"
    },
    {
     "data": {
      "image/png": "[encoded data removed]",
      "text/plain": [
       "<Figure size 2160x504 with 1 Axes>"
      ]
     },
     "metadata": {
      "needs_background": "light"
     },
     "output_type": "display_data"
    }
   ],
   "source": [
    "quote=get_quote()\n",
    "quote.plot(figsize=(30, 7))\n",
    "quote.head()"
   ]
  }
 ],
 "metadata": {
  "kernelspec": {
   "display_name": "Python 3 (ipykernel)",
   "language": "python",
   "name": "python3"
  },
  "language_info": {
   "codemirror_mode": {
    "name": "ipython",
    "version": 3
   },
   "file_extension": ".py",
   "mimetype": "text/x-python",
   "name": "python",
   "nbconvert_exporter": "python",
   "pygments_lexer": "ipython3",
   "version": "3.9.7"
  }
 },
 "nbformat": 4,
 "nbformat_minor": 5
}
